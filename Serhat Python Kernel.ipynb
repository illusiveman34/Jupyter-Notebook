{
  "metadata": {
    "language_info": {
      "codemirror_mode": {
        "name": "python",
        "version": 3
      },
      "file_extension": ".py",
      "mimetype": "text/x-python",
      "name": "python",
      "nbconvert_exporter": "python",
      "pygments_lexer": "ipython3",
      "version": "3.8"
    },
    "kernelspec": {
      "name": "python",
      "display_name": "Python (Pyodide)",
      "language": "python"
    }
  },
  "nbformat_minor": 4,
  "nbformat": 4,
  "cells": [
    {
      "cell_type": "markdown",
      "source": "<h1 style> My Jupyter Notebook on IBM Watson Studio",
      "metadata": {}
    },
    {
      "cell_type": "markdown",
      "source": "**Serhat Kariparduc**\n\n\n My current occupation is a Data Analyst and I would like to be a Data Scientist.",
      "metadata": {}
    },
    {
      "cell_type": "markdown",
      "source": "*I want to become a Data Scientist because I want to be in a field in which the effects of my day-to-day work can be \nseen in the real world*",
      "metadata": {}
    },
    {
      "cell_type": "markdown",
      "source": "<h3 style>My code below is supposed to select a number between 1 and 10",
      "metadata": {}
    },
    {
      "cell_type": "code",
      "source": "import random\nrando = random.randint(1,10)\nprint(rando)",
      "metadata": {
        "trusted": true
      },
      "execution_count": null,
      "outputs": []
    },
    {
      "cell_type": "raw",
      "source": "The following fields in Data Science interest me\n\n1. [Deep Learning](https://en.wikipedia.org/wiki/Deep_learning)\n2. Machine Learning\n3. Automation",
      "metadata": {}
    },
    {
      "cell_type": "raw",
      "source": "",
      "metadata": {}
    }
  ]
}